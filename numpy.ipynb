{
 "cells": [
  {
   "cell_type": "code",
   "execution_count": 5,
   "id": "30895c45-4525-409d-9cc3-4b3060a083c5",
   "metadata": {},
   "outputs": [
    {
     "name": "stdout",
     "output_type": "stream",
     "text": [
      "[4 6 5]\n",
      "[3 7 8]\n",
      "[ 7 13 13]\n",
      "[12 42 40]\n"
     ]
    }
   ],
   "source": [
    "import numpy as np\n",
    "a=np.array([4,6,5])\n",
    "b=np.array([3,7,8])\n",
    "print(a)\n",
    "print(b)\n",
    "print(a+b)\n",
    "print(a*b)"
   ]
  },
  {
   "cell_type": "code",
   "execution_count": 6,
   "id": "05ba8ca6-f4e2-498f-85f7-e97df5a4bbd1",
   "metadata": {},
   "outputs": [
    {
     "name": "stdout",
     "output_type": "stream",
     "text": [
      "['4' '8' '9']\n"
     ]
    }
   ],
   "source": [
    "a=np.array([4,8,\"9\"])\n",
    "print(a)"
   ]
  },
  {
   "cell_type": "code",
   "execution_count": 7,
   "id": "be7cce33-30b7-4dec-a1f9-b577e7faed64",
   "metadata": {},
   "outputs": [
    {
     "name": "stdout",
     "output_type": "stream",
     "text": [
      "[38 26]\n",
      "[26]\n"
     ]
    }
   ],
   "source": [
    "import numpy as np\n",
    "arr=np.array([16,38,26])\n",
    "print(arr[1:])\n",
    "print(arr[2:])\n"
   ]
  },
  {
   "cell_type": "code",
   "execution_count": 20,
   "id": "2a85a7e0-e523-4b6e-be00-a598d794355a",
   "metadata": {},
   "outputs": [
    {
     "name": "stdout",
     "output_type": "stream",
     "text": [
      "[[10 28 39 45]\n",
      " [20 34 54 35]]\n",
      "[39]\n",
      "[35]\n",
      "(2, 4)\n",
      "8\n",
      "2\n",
      "<class 'numpy.ndarray'>\n",
      "int32\n",
      "[[10 28 39 45]\n",
      " [20 34 54 35]]\n",
      "[['10' '28' '39' '45']\n",
      " ['20' '34' '54' '35']]\n"
     ]
    }
   ],
   "source": [
    "import numpy as np\n",
    "arr=np.array([[10,28,39,45],[20,34,54,35]])\n",
    "print(arr[0:2,0:4])\n",
    "print(arr[0,2:3])\n",
    "print(arr[1,3:])\n",
    "print(np.shape(arr))\n",
    "print(np.size(arr))\n",
    "print(np.ndim(arr))\n",
    "print(type(arr))\n",
    "print(arr.dtype)\n",
    "print(arr.astype(int))\n",
    "print(arr.astype(str))\n"
   ]
  },
  {
   "cell_type": "code",
   "execution_count": 33,
   "id": "a6b462b1-6bd6-421e-81ce-ef3405cb4a22",
   "metadata": {},
   "outputs": [
    {
     "name": "stdout",
     "output_type": "stream",
     "text": [
      "[27 29 31]\n",
      "[3 3 3]\n",
      "[180 208 238]\n",
      "[0.8        0.8125     0.82352941]\n",
      "[ 162754.791419    442413.39200892 1202604.28416478]\n",
      "[-1073741824  1778525249  -586285056]\n",
      "[27 29 31]\n"
     ]
    }
   ],
   "source": [
    "import numpy as np\n",
    "a=np.array([12,13,14])\n",
    "b=np.array([15,16,17])\n",
    "c=np.array([2])\n",
    "print(np.add(a,b))\n",
    "print(np.subtract(b,a))\n",
    "print(np.multiply(a,b))\n",
    "print(np.divide(a,b))\n",
    "print(np.exp(a))\n",
    "print(np.power(a,b))\n",
    "print(a+b)"
   ]
  },
  {
   "cell_type": "code",
   "execution_count": 15,
   "id": "c70fb519-2e97-4a6b-9072-337c27086b38",
   "metadata": {},
   "outputs": [
    {
     "name": "stdout",
     "output_type": "stream",
     "text": [
      "[[12 13]\n",
      " [13 14]\n",
      " [16 17]\n",
      " [12 18]]\n",
      "[[12 13  2  5]\n",
      " [14 13  4  7]]\n",
      "[[12 13 16 17]\n",
      " [13 14 12 18]]\n",
      "[[12 13]\n",
      " [13 14]\n",
      " [16 17]\n",
      " [12 18]]\n"
     ]
    }
   ],
   "source": [
    "import numpy as np\n",
    "a=np.array([[12,13],[13,14]])\n",
    "b=np.array([[16,17],[12,18]])\n",
    "print(np.concatenate([a,b]))\n",
    "print(np.concatenate([[[12,13],[14,13]],[[2,5],[4,7]]],axis=1))\n",
    "print(np.hstack([a,b]))\n",
    "print(np.vstack([a,b]))"
   ]
  },
  {
   "cell_type": "code",
   "execution_count": 21,
   "id": "de1231a7-b898-46b4-b028-219ee23976ad",
   "metadata": {},
   "outputs": [
    {
     "name": "stdout",
     "output_type": "stream",
     "text": [
      "[array([12, 23]), array([14, 23]), array([25, 12])]\n",
      "[14 23]\n"
     ]
    }
   ],
   "source": [
    "import numpy as np\n",
    "a=np.array([12,23,14,23,25,12])\n",
    "print(np.array_split(a,3))\n",
    "b=np.array_split(a,3)\n",
    "print(b[1])"
   ]
  },
  {
   "cell_type": "code",
   "execution_count": 1,
   "id": "976db5e3-d202-4a9a-bf20-97b6b60da9e6",
   "metadata": {},
   "outputs": [
    {
     "name": "stdout",
     "output_type": "stream",
     "text": [
      "[12 13 14 15 10]\n",
      "[12 13 23 14 15]\n",
      "[[12 15 13 15]\n",
      " [13 15 14 15]]\n",
      "[12 14 15]\n"
     ]
    }
   ],
   "source": [
    "import numpy as np\n",
    "a=np.array([12,13,14,15])\n",
    "b=np.array([[12,13],[13,14]])\n",
    "print(np.append(a,10))\n",
    "print(np.insert(a,2,23))\n",
    "print(np.insert(b,[1,2],15,axis=1))\n",
    "print(np.delete(a,[1]))"
   ]
  },
  {
   "cell_type": "code",
   "execution_count": 1,
   "id": "58be0bed-142e-48df-9224-f9daab462467",
   "metadata": {},
   "outputs": [
    {
     "name": "stdout",
     "output_type": "stream",
     "text": [
      "[[2 3 4 5 7 8]\n",
      " [1 2 3 4 6 7]]\n",
      "[[2 1 4 3 7 2]\n",
      " [3 7 6 4 8 5]]\n",
      "[2 3 4 5 7 8]\n",
      "(array([2], dtype=int64),)\n",
      "(array([0, 2, 4], dtype=int64),)\n",
      "5\n",
      "[2 3 8]\n",
      "[7 3 5]\n"
     ]
    }
   ],
   "source": [
    "import numpy as np\n",
    "a=np.array([2,7,4,3,8,5])\n",
    "b=np.array([[2,7,4,3,8,5],[3,1,6,4,7,2]])\n",
    "print(np.sort(b,axis=1))\n",
    "print(np.sort(b,axis=0))\n",
    "print(np.sort(a))\n",
    "c=np.sort(a)\n",
    "print(np.where(a==4))\n",
    "print(np.where(a%2==0))\n",
    "print(np.searchsorted(c,8))\n",
    "d=[True,False,False,True,True,False]\n",
    "print(a[d])\n",
    "e= a%2==1\n",
    "print(a[e])\n"
   ]
  },
  {
   "cell_type": "code",
   "execution_count": 1,
   "id": "98e12f36-4193-4197-9f8c-ed74369f41dc",
   "metadata": {},
   "outputs": [
    {
     "name": "stdout",
     "output_type": "stream",
     "text": [
      "20\n",
      "87\n",
      "198\n",
      "4\n",
      "49.5\n",
      "[ 20 107 163 198]\n",
      "[     20    1740   97440 3410400]\n"
     ]
    }
   ],
   "source": [
    "import numpy as np\n",
    "a=np.array([20,87,56,35])\n",
    "print(np.min(a))\n",
    "print(np.max(a))\n",
    "print(np.sum(a))\n",
    "print(np.size(a))\n",
    "print(np.mean(a))\n",
    "print(np.cumsum(a))\n",
    "print(np.cumprod(a))\n"
   ]
  },
  {
   "cell_type": "code",
   "execution_count": 8,
   "id": "7fa7ab4a-1a0c-4043-9fb2-b65bd7f9e664",
   "metadata": {},
   "outputs": [
    {
     "name": "stdout",
     "output_type": "stream",
     "text": [
      "19.833333333333332\n",
      "18.0\n",
      "13\n",
      "7.98783797754784\n",
      "63.805555555555564\n",
      "[[1.         0.10371884]\n",
      " [0.10371884 1.        ]]\n"
     ]
    }
   ],
   "source": [
    "import numpy as np \n",
    "import statistics as stats\n",
    "a=np.array([12,23,13,34,24,13])\n",
    "print(np.mean(a))\n",
    "print(np.median(a))\n",
    "print(stats.mode(a))\n",
    "print(np.std(a))\n",
    "print(np.var(a))\n",
    "b=np.array([23,24,14,15,28,15])\n",
    "print(np.corrcoef(a,b))\n",
    "\n"
   ]
  },
  {
   "cell_type": "code",
   "execution_count": null,
   "id": "87c38d82-858e-49f4-b4fb-7e2e932502f3",
   "metadata": {},
   "outputs": [],
   "source": []
  }
 ],
 "metadata": {
  "kernelspec": {
   "display_name": "Python 3 (ipykernel)",
   "language": "python",
   "name": "python3"
  },
  "language_info": {
   "codemirror_mode": {
    "name": "ipython",
    "version": 3
   },
   "file_extension": ".py",
   "mimetype": "text/x-python",
   "name": "python",
   "nbconvert_exporter": "python",
   "pygments_lexer": "ipython3",
   "version": "3.11.7"
  }
 },
 "nbformat": 4,
 "nbformat_minor": 5
}
