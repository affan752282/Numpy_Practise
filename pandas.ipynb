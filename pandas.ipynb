{
 "cells": [
  {
   "cell_type": "code",
   "execution_count": 10,
   "id": "042361f8-d774-4a82-92ea-dd0413d6d995",
   "metadata": {},
   "outputs": [
    {
     "name": "stdout",
     "output_type": "stream",
     "text": [
      "    Name  Age  Salary\n",
      "0    Ram   26   30000\n",
      "1  Shyam   34   50000\n",
      "2  Rohan   30   35000\n",
      "3    Ram   30   40000\n",
      "4   Ajay   32   40000\n",
      "5  Vijay   35   52000\n",
      "6  kamal   42   60000\n",
      "    Name  Age  Salary\n",
      "0    Ram   26   30000\n",
      "1  Shyam   34   50000\n",
      "2  Rohan   30   35000\n",
      "    Name  Age  Salary\n",
      "4   Ajay   32   40000\n",
      "5  Vijay   35   52000\n",
      "6  kamal   42   60000\n",
      "<class 'pandas.core.frame.DataFrame'>\n",
      "RangeIndex: 7 entries, 0 to 6\n",
      "Data columns (total 3 columns):\n",
      " #   Column  Non-Null Count  Dtype \n",
      "---  ------  --------------  ----- \n",
      " 0   Name    7 non-null      object\n",
      " 1   Age     7 non-null      int64 \n",
      " 2   Salary  7 non-null      int64 \n",
      "dtypes: int64(2), object(1)\n",
      "memory usage: 300.0+ bytes\n",
      "None\n",
      "Name      0\n",
      "Age       0\n",
      "Salary    0\n",
      "dtype: int64\n",
      "0    False\n",
      "1    False\n",
      "2    False\n",
      "3     True\n",
      "4    False\n",
      "5    False\n",
      "6    False\n",
      "Name: Age, dtype: bool\n",
      "    Name  Age  Salary\n",
      "0    Ram   26   30000\n",
      "1  Shyam   34   50000\n",
      "2  Rohan   30   35000\n",
      "4   Ajay   32   40000\n",
      "5  Vijay   35   52000\n",
      "6  kamal   42   60000\n"
     ]
    }
   ],
   "source": [
    "import pandas as pd\n",
    "data={\"Name\":[\"Ram\",\"Shyam\",\"Rohan\",\"Ram\",\"Ajay\",\"Vijay\",\"kamal\"],\"Age\":[26,34,30,30,32,35,42],\n",
    "      \"Salary\":[30000,50000,35000,40000,40000,52000,60000]}\n",
    "df=pd.DataFrame(data)\n",
    "print(df)\n",
    "print(df.head(3))\n",
    "print(df.tail(3))\n",
    "print(df.info())\n",
    "df.describe()\n",
    "print(df.isnull().sum())\n",
    "print(df[\"Age\"].duplicated())\n",
    "print(df.drop_duplicates(\"Age\")) \n",
    "      \n"
   ]
  },
  {
   "cell_type": "code",
   "execution_count": 19,
   "id": "cd0b46e4-78a8-4a6c-abff-b4c36048a0e5",
   "metadata": {},
   "outputs": [
    {
     "name": "stdout",
     "output_type": "stream",
     "text": [
      "    Name  Age Salary\n",
      "0    Ram   26  30000\n",
      "1          34  50000\n",
      "2  Shyam   30  35000\n",
      "3    Ram   30  40000\n",
      "4   Ajay   32  40000\n",
      "5  Vijay   35  52000\n",
      "6   Amit   36   Null\n",
      "7  kamal   42  60000\n",
      "    Name    Age  Salary\n",
      "0  False  False   False\n",
      "1  False  False   False\n",
      "2  False  False   False\n",
      "3  False  False   False\n",
      "4  False  False   False\n",
      "5  False  False   False\n",
      "6  False  False   False\n",
      "7  False  False   False\n"
     ]
    }
   ],
   "source": [
    "import pandas as pd\n",
    "data={\"Name\":[\"Ram\",\"\",\"Shyam\",\"Ram\",\"Ajay\",\"Vijay\",\"Amit\",\"kamal\"],\"Age\":[26,34,30,30,32,35,36,42],\n",
    "      \"Salary\":[30000,50000,35000,40000,40000,52000,\"Null\",60000]}\n",
    "df=pd.DataFrame(data)\n",
    "print(df)\n",
    "print(df.isnull())"
   ]
  },
  {
   "cell_type": "code",
   "execution_count": 7,
   "id": "85e750b3-ccbf-4f80-a50e-9cf219af4645",
   "metadata": {},
   "outputs": [
    {
     "name": "stdout",
     "output_type": "stream",
     "text": [
      "    Name  Age  Salary  Bonus LastName\n",
      "0    Ram   26   30000      0    kumar\n",
      "1  Shyam   34   50000   2000    Yadav\n",
      "2  Rohan   30   35000   4000    Singh\n",
      "3    Ram   30   40000      0    Kumar\n",
      "4   Ajay   32   40000   5000    Yadav\n",
      "5  Vijay   35   52000      0    singh\n",
      "6  kamal   42   60000   1000   Rajput\n",
      "    Name  Age  Salary  Bonus LastName  Getbonus GetBonus\n",
      "0    Ram   26   30000      0    kumar  No bonus      nan\n",
      "1  Shyam   34   50000   2000    Yadav       nan    bonus\n",
      "2  Rohan   30   35000   4000    Singh       nan    bonus\n",
      "3    Ram   30   40000      0    Kumar  No bonus      nan\n",
      "4   Ajay   32   40000   5000    Yadav       nan    bonus\n",
      "5  Vijay   35   52000      0    singh  No bonus      nan\n",
      "6  kamal   42   60000   1000   Rajput       nan    bonus\n",
      "    Name  Age  Salary  Bonus LastName  Getbonus GetBonus          full\n",
      "0    Ram   26   30000      0    kumar  No bonus      nan     Ram Kumar\n",
      "1  Shyam   34   50000   2000    Yadav       nan    bonus   Shyam Yadav\n",
      "2  Rohan   30   35000   4000    Singh       nan    bonus   Rohan Singh\n",
      "3    Ram   30   40000      0    Kumar  No bonus      nan     Ram Kumar\n",
      "4   Ajay   32   40000   5000    Yadav       nan    bonus    Ajay Yadav\n",
      "5  Vijay   35   52000      0    singh  No bonus      nan   Vijay Singh\n",
      "6  kamal   42   60000   1000   Rajput       nan    bonus  Kamal Rajput\n",
      "    Name  Age  Salary    Bonus LastName  Getbonus GetBonus          full\n",
      "0    Ram   26   30000   6000.0    kumar  No bonus      nan     Ram Kumar\n",
      "1  Shyam   34   50000  10000.0    Yadav       nan    bonus   Shyam Yadav\n",
      "2  Rohan   30   35000   7000.0    Singh       nan    bonus   Rohan Singh\n",
      "3    Ram   30   40000   8000.0    Kumar  No bonus      nan     Ram Kumar\n",
      "4   Ajay   32   40000   8000.0    Yadav       nan    bonus    Ajay Yadav\n",
      "5  Vijay   35   52000  10400.0    singh  No bonus      nan   Vijay Singh\n",
      "6  kamal   42   60000  12000.0   Rajput       nan    bonus  Kamal Rajput\n"
     ]
    }
   ],
   "source": [
    "import pandas as pd\n",
    "data={\"Name\":[\"Ram\",\"Shyam\",\"Rohan\",\"Ram\",\"Ajay\",\"Vijay\",\"kamal\"],\"Age\":[26,34,30,30,32,35,42],\n",
    "      \"Salary\":[30000,50000,35000,40000,40000,52000,60000],\"Bonus\":[0,2000,4000,0,5000,0,1000],\"LastName\":[\"kumar\",\"Yadav\",\"Singh\",\"Kumar\",\"Yadav\",\"singh\",\"Rajput\"]}\n",
    "df=pd.DataFrame(data)\n",
    "print(df)\n",
    "df.loc[(df[\"Bonus\"]==0),\"Getbonus\"]=\"No bonus\"\n",
    "df.loc[(df[\"Bonus\"]>0,\"GetBonus\")]=\"bonus\"\n",
    "print(df.head(7))\n",
    "df[\"full\"]=df[\"Name\"].str.capitalize()+ \" \"+df[\"LastName\"].str.capitalize()\n",
    "print(df)\n",
    "df[\"Bonus\"]=(df[\"Salary\"]/100)*20\n",
    "print(df)\n"
   ]
  },
  {
   "cell_type": "code",
   "execution_count": 11,
   "id": "7352e6fa-607f-4794-96e0-76a131f07545",
   "metadata": {},
   "outputs": [
    {
     "name": "stdout",
     "output_type": "stream",
     "text": [
      "      month\n",
      "0   January\n",
      "1  February\n",
      "2     March\n",
      "3     April\n",
      "      month Short_months\n",
      "0   January          Jan\n",
      "1  February          Feb\n",
      "2     March          Mar\n",
      "3     April          Apr\n"
     ]
    }
   ],
   "source": [
    "import pandas as pd\n",
    "data={\"month\":[\"January\",\"February\",\"March\",\"April\"]}\n",
    "df=pd.DataFrame(data)\n",
    "print(df)\n",
    "def extract(value):\n",
    "    return value[0:3]\n",
    "\n",
    "df[\"Short_months\"]=df[\"month\"].map(extract)\n",
    "print(df)\n",
    "\n",
    "    "
   ]
  },
  {
   "cell_type": "code",
   "execution_count": 20,
   "id": "c6d4e436-641d-4501-8e36-66e87e7c1e49",
   "metadata": {},
   "outputs": [
    {
     "name": "stdout",
     "output_type": "stream",
     "text": [
      "       Age\n",
      "Name      \n",
      "Ajay     1\n",
      "Ram      2\n",
      "Rohan    1\n",
      "Shyam    1\n",
      "Vijay    1\n",
      "kamal    1\n",
      "        Age\n",
      "Name       \n",
      "Ajay   32.0\n",
      "Ram    28.0\n",
      "Rohan  30.0\n",
      "Shyam  34.0\n",
      "Vijay  35.0\n",
      "kamal  42.0\n",
      "              Age\n",
      "Name  Salary     \n",
      "Ajay  40000     1\n",
      "Ram   30000     1\n",
      "      40000     1\n",
      "Rohan 35000     1\n",
      "Shyam 50000     1\n",
      "Vijay 52000     1\n",
      "kamal 60000     1\n"
     ]
    }
   ],
   "source": [
    "import pandas as pd\n",
    "data={\"Name\":[\"Ram\",\"Shyam\",\"Rohan\",\"Ram\",\"Ajay\",\"Vijay\",\"kamal\"],\"Age\":[26,34,30,30,32,35,42],\n",
    "      \"Salary\":[30000,50000,35000,40000,40000,52000,60000],\"Bonus\":[0,2000,4000,0,5000,0,1000],\"LastName\":[\"kumar\",\"Yadav\",\"Singh\",\"Kumar\",\"Yadav\",\"singh\",\"Rajput\"]}\n",
    "df=pd.DataFrame(data)\n",
    "a=df.groupby(\"Name\").agg({\"Age\":\"count\"})\n",
    "print(a)\n",
    "b=df.groupby(\"Name\").agg({\"Age\":\"mean\"})\n",
    "print(b)\n",
    "d=df.groupby([\"Name\",\"Salary\"]).agg({\"Age\":\"count\"})\n",
    "print(d)\n"
   ]
  },
  {
   "cell_type": "code",
   "execution_count": 36,
   "id": "c502c4cc-de09-459a-b849-e05aba331206",
   "metadata": {},
   "outputs": [
    {
     "name": "stdout",
     "output_type": "stream",
     "text": [
      "   fruits  Price\n",
      "0   Mango     30\n",
      "1  Banana     49\n",
      "2  Papaya     50\n",
      "   fruits  Price\n",
      "0   Mango     30\n",
      "1  Banana     49\n",
      "2  Papaya     50\n",
      "   fruits  Price\n",
      "0   Mango     60\n",
      "1  Banana     50\n",
      "2  Papaya     50\n",
      "  Price      \n",
      "   self other\n",
      "0  30.0  60.0\n",
      "1  49.0  50.0\n",
      "         Price\n",
      "0 self    30.0\n",
      "  other   60.0\n",
      "1 self    49.0\n",
      "  other   50.0\n",
      "  fruits       Price      \n",
      "    self other  self other\n",
      "0    NaN   NaN  30.0  60.0\n",
      "1    NaN   NaN  49.0  50.0\n",
      "2    NaN   NaN   NaN   NaN\n"
     ]
    }
   ],
   "source": [
    "import pandas as pd\n",
    "dict={\"fruits\":[\"Mango\",\"Banana\",\"Papaya\"],\"Price\":[30,49,50]}\n",
    "df=pd.DataFrame(dict)\n",
    "print(df)\n",
    "df2=df.copy()\n",
    "print(df2)\n",
    "df2.loc[0,\"Price\"]=60\n",
    "df2.loc[1,\"Price\"]=50\n",
    "print(df2)\n",
    "print(df.compare(df2))\n",
    "print(df.compare(df2,align_axis=0))\n",
    "print(df.compare(df2,keep_shape=\"True\"))\n"
   ]
  },
  {
   "cell_type": "code",
   "execution_count": null,
   "id": "c72ae890-5a67-4b03-991e-4cee68ce758f",
   "metadata": {},
   "outputs": [],
   "source": []
  }
 ],
 "metadata": {
  "kernelspec": {
   "display_name": "Python 3 (ipykernel)",
   "language": "python",
   "name": "python3"
  },
  "language_info": {
   "codemirror_mode": {
    "name": "ipython",
    "version": 3
   },
   "file_extension": ".py",
   "mimetype": "text/x-python",
   "name": "python",
   "nbconvert_exporter": "python",
   "pygments_lexer": "ipython3",
   "version": "3.11.7"
  }
 },
 "nbformat": 4,
 "nbformat_minor": 5
}
